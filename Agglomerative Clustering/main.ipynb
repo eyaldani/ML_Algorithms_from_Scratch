{
 "cells": [
  {
   "cell_type": "markdown",
   "id": "41abbff3-f956-4a86-80db-b5cc925877ab",
   "metadata": {},
   "source": [
    "# Agglomerative Clustering\n",
    "create algorithm of agglomerative clustering with the following conditions:\n",
    "\n",
    "-> the input is a dictionary of id's and multidimensional vector \n",
    "\n",
    "-> distance function should be configurable - by default the distance between pair of clusters is based on the maximum distance between two members of each group\n",
    "\n",
    "-> the expected output is set of tuples in which each tuple represents id of cluster"
   ]
  },
  {
   "cell_type": "code",
   "execution_count": 594,
   "id": "a93d1839-fb96-4048-86ed-e1a340f387f2",
   "metadata": {},
   "outputs": [],
   "source": [
    "import numpy as np\n",
    "import pandas as pd"
   ]
  },
  {
   "cell_type": "markdown",
   "id": "4c736e56-2315-4c9a-8c5b-e772de862d55",
   "metadata": {},
   "source": [
    "preparing our input"
   ]
  },
  {
   "cell_type": "code",
   "execution_count": 642,
   "id": "fd3a4940-8ed9-4f98-938b-9b08e8e4262c",
   "metadata": {},
   "outputs": [
    {
     "name": "stdout",
     "output_type": "stream",
     "text": [
      "We just initilized 15 inputs, each from 10 dimension\n"
     ]
    }
   ],
   "source": [
    "# for a given array size and number of clusters, this method returns a possible input\n",
    "def create_input(array_size=10, clusters=15):\n",
    "    np.random.seed(5)\n",
    "    points = {}\n",
    "    for i in range(clusters):\n",
    "        points[i] = np.random.rand(array_size, )\n",
    "    print('We just initilized {} inputs, each from {} dimension'.format(clusters, array_size))\n",
    "    return points\n",
    "points = create_input()"
   ]
  },
  {
   "cell_type": "markdown",
   "id": "4f04d5cb-801b-4468-b605-924c03e11908",
   "metadata": {},
   "source": [
    "let's examine one of the records"
   ]
  },
  {
   "cell_type": "code",
   "execution_count": 596,
   "id": "cae383d2-bfc4-4f8c-a6be-19becb944568",
   "metadata": {},
   "outputs": [
    {
     "data": {
      "text/plain": [
       "(array([0.22199317, 0.87073231, 0.20671916, 0.91861091, 0.48841119,\n",
       "        0.61174386, 0.76590786, 0.51841799, 0.2968005 , 0.18772123]),\n",
       " array([0.08074127, 0.7384403 , 0.44130922, 0.15830987, 0.87993703,\n",
       "        0.27408646, 0.41423502, 0.29607993, 0.62878791, 0.57983781]))"
      ]
     },
     "execution_count": 596,
     "metadata": {},
     "output_type": "execute_result"
    }
   ],
   "source": [
    "points[0], points[1]"
   ]
  },
  {
   "cell_type": "code",
   "execution_count": 597,
   "id": "f0355906-5d4f-4f1e-9757-fd563786b4be",
   "metadata": {},
   "outputs": [],
   "source": [
    "def calculate_distance(p1, p2):\n",
    "    return max(abs(p1- p2))"
   ]
  },
  {
   "cell_type": "code",
   "execution_count": 647,
   "id": "e0eb1f29-1fe5-46d7-b20b-4ae69f4e12a4",
   "metadata": {},
   "outputs": [],
   "source": [
    "def update_points_dist(points_dist,clusters, new_cluster):\n",
    "    old_cluster_a = new_cluster[0]\n",
    "    old_cluster_b = new_cluster[1]\n",
    "    for c3 in clusters:\n",
    "        if ((c3),(old_cluster_a)) in points_dist.keys():\n",
    "            value =  points_dist[(c3),(old_cluster_a)]\n",
    "            del points_dist[(c3),(old_cluster_a)]\n",
    "        else:\n",
    "            value =  points_dist[(old_cluster_a),(c3)]\n",
    "            del points_dist[(old_cluster_a),(c3)]\n",
    "        if ((c3),(old_cluster_b)) in points_dist.keys():\n",
    "            value =  max(value, points_dist[(c3),(old_cluster_b)])\n",
    "            del points_dist[(c3),(old_cluster_b)]\n",
    "        else:\n",
    "            value =  max(value, points_dist[(old_cluster_b),(c3)])\n",
    "            del points_dist[(old_cluster_b),(c3)]\n",
    "        points_dist[old_cluster_a+old_cluster_b, c3] = value\n",
    "    del points_dist[new_cluster]\n",
    "    return points_dist"
   ]
  },
  {
   "cell_type": "code",
   "execution_count": 650,
   "id": "2dcc22b5-03ef-4117-8930-b78250ef2750",
   "metadata": {},
   "outputs": [],
   "source": [
    "def agglomerative_clustering(points, k=5):\n",
    "    clusters = list(zip(points.keys()))\n",
    "    if k >= len(clusters):\n",
    "        return clusters\n",
    "    points_dist = {}\n",
    "    for c1 in clusters:\n",
    "        for c2 in clusters:\n",
    "            if (c1,c2) not in list(points_dist.keys()) and (c2,c1) not in list(points_dist.keys()) and c1!= c2:\n",
    "                points_dist[(c1, c2)] = calculate_distance(points[c1[0]], points[c2[0]])\n",
    "    while k < len(clusters):\n",
    "        new_cluster = min(points_dist, key=points_dist.get)\n",
    "        clusters.remove(new_cluster[0])\n",
    "        clusters.remove(new_cluster[1])\n",
    "        points_dist = update_points_dist(points_dist, clusters, new_cluster)\n",
    "        \n",
    "        clusters.append(new_cluster[0]+new_cluster[1])\n",
    "    return clusters"
   ]
  },
  {
   "cell_type": "code",
   "execution_count": 667,
   "id": "d7b094eb-c198-401b-a185-18b1e2f5e7ae",
   "metadata": {},
   "outputs": [
    {
     "name": "stdout",
     "output_type": "stream",
     "text": [
      "Wall time: 4 ms\n"
     ]
    }
   ],
   "source": [
    "%%time\n",
    "final_clusters= agglomerative_clustering(points, 2)"
   ]
  },
  {
   "cell_type": "code",
   "execution_count": 668,
   "id": "ac4836fc-ec8d-4598-878a-60a99fa2a854",
   "metadata": {},
   "outputs": [
    {
     "data": {
      "text/plain": [
       "[(6, 12, 9, 1, 7, 3, 13), (4, 14, 0, 2, 8, 5, 11, 10)]"
      ]
     },
     "execution_count": 668,
     "metadata": {},
     "output_type": "execute_result"
    }
   ],
   "source": [
    "final_clusters"
   ]
  }
 ],
 "metadata": {
  "kernelspec": {
   "display_name": "Python 3 (ipykernel)",
   "language": "python",
   "name": "python3"
  },
  "language_info": {
   "codemirror_mode": {
    "name": "ipython",
    "version": 3
   },
   "file_extension": ".py",
   "mimetype": "text/x-python",
   "name": "python",
   "nbconvert_exporter": "python",
   "pygments_lexer": "ipython3",
   "version": "3.9.7"
  }
 },
 "nbformat": 4,
 "nbformat_minor": 5
}
